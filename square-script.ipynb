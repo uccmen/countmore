{
 "cells": [
  {
   "cell_type": "code",
   "execution_count": 4,
   "id": "e8cc54b8",
   "metadata": {},
   "outputs": [],
   "source": [
    "import random\n",
    "import json\n",
    "\n",
    "# Generate 4000 JSON objects\n",
    "data = []\n",
    "for i in range(4000):\n",
    "    squareOf = random.uniform(6, 16)\n",
    "    answer = squareOf ** 2\n",
    "    data.append({\"squareOf\": squareOf, \"answer\": answer})\n",
    "\n",
    "# Write the data to a JSON file\n",
    "with open(\"square-data.json\", \"w\") as f:\n",
    "    json.dump(data, f)"
   ]
  }
 ],
 "metadata": {
  "kernelspec": {
   "display_name": "Python 3 (ipykernel)",
   "language": "python",
   "name": "python3"
  },
  "language_info": {
   "codemirror_mode": {
    "name": "ipython",
    "version": 3
   },
   "file_extension": ".py",
   "mimetype": "text/x-python",
   "name": "python",
   "nbconvert_exporter": "python",
   "pygments_lexer": "ipython3",
   "version": "3.9.16"
  }
 },
 "nbformat": 4,
 "nbformat_minor": 5
}
